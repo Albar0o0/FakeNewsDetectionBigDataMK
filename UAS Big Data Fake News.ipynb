{
 "cells": [
  {
   "cell_type": "code",
   "execution_count": 1,
   "id": "895d5a93",
   "metadata": {},
   "outputs": [],
   "source": [
    "import numpy as np # linear algebra\n",
    "import pandas as pd # data processing, CSV file I/O (e.g. pd.read_csv)"
   ]
  },
  {
   "cell_type": "code",
   "execution_count": 5,
   "id": "e8a35d1b",
   "metadata": {},
   "outputs": [
    {
     "name": "stdout",
     "output_type": "stream",
     "text": [
      "Requirement already satisfied: Sastrawi in c:\\users\\ali hakim\\anaconda3\\lib\\site-packages (1.0.1)\n"
     ]
    }
   ],
   "source": [
    "!pip install Sastrawi"
   ]
  },
  {
   "cell_type": "code",
   "execution_count": 6,
   "id": "df996252",
   "metadata": {},
   "outputs": [
    {
     "name": "stdout",
     "output_type": "stream",
     "text": [
      "Requirement already satisfied: xlrd in c:\\users\\ali hakim\\anaconda3\\lib\\site-packages (2.0.1)\n"
     ]
    }
   ],
   "source": [
    "!pip install xlrd"
   ]
  },
  {
   "cell_type": "code",
   "execution_count": 3,
   "id": "a4a6ef84",
   "metadata": {},
   "outputs": [],
   "source": [
    "import pandas as pd\n",
    "import numpy as np\n",
    "import nltk\n",
    "from nltk.tokenize import word_tokenize\n",
    "from sklearn.preprocessing import LabelEncoder\n",
    "from sklearn.feature_extraction.text import TfidfVectorizer\n",
    "from sklearn import svm\n",
    "from sklearn.ensemble import RandomForestClassifier\n",
    "from sklearn.metrics import accuracy_score\n",
    "from sklearn.model_selection import train_test_split\n",
    "from Sastrawi.Stemmer.StemmerFactory import StemmerFactory"
   ]
  },
  {
   "cell_type": "code",
   "execution_count": 7,
   "id": "90acb147",
   "metadata": {},
   "outputs": [
    {
     "name": "stderr",
     "output_type": "stream",
     "text": [
      "[nltk_data] Downloading package punkt to C:\\Users\\Ali\n",
      "[nltk_data]     Hakim\\AppData\\Roaming\\nltk_data...\n",
      "[nltk_data]   Package punkt is already up-to-date!\n"
     ]
    },
    {
     "data": {
      "text/plain": [
       "True"
      ]
     },
     "execution_count": 7,
     "metadata": {},
     "output_type": "execute_result"
    }
   ],
   "source": [
    "# Random seed for consistency\n",
    "np.random.seed(42)\n",
    "\n",
    "nltk.download('punkt')"
   ]
  },
  {
   "cell_type": "code",
   "execution_count": 8,
   "id": "166bfcc4",
   "metadata": {},
   "outputs": [],
   "source": [
    "# Create stemmer\n",
    "factory = StemmerFactory()\n",
    "stemmer = factory.create_stemmer()\n",
    "\n",
    "# Label Encoder use to Encode target labels with value between 0 and n_classes-1\n",
    "Encoder = LabelEncoder()\n",
    "\n",
    "# TfidfVectorizer Convert a collection of raw documents to a matrix of TF-IDF features.\n",
    "Tfidf_vect = TfidfVectorizer()"
   ]
  },
  {
   "cell_type": "code",
   "execution_count": 33,
   "id": "52ff23a9",
   "metadata": {},
   "outputs": [],
   "source": [
    "# Read dataset using pandas function read_csv\n",
    "\n",
    "data_train = pd.read_csv('bigdata_dataset.csv')\n",
    "data_train = data_train.dropna()\n",
    "\n",
    "\n",
    "# data_train=data_train.astype(str)"
   ]
  },
  {
   "cell_type": "code",
   "execution_count": 34,
   "id": "1f9e0746",
   "metadata": {},
   "outputs": [
    {
     "data": {
      "text/html": [
       "<div>\n",
       "<style scoped>\n",
       "    .dataframe tbody tr th:only-of-type {\n",
       "        vertical-align: middle;\n",
       "    }\n",
       "\n",
       "    .dataframe tbody tr th {\n",
       "        vertical-align: top;\n",
       "    }\n",
       "\n",
       "    .dataframe thead th {\n",
       "        text-align: right;\n",
       "    }\n",
       "</style>\n",
       "<table border=\"1\" class=\"dataframe\">\n",
       "  <thead>\n",
       "    <tr style=\"text-align: right;\">\n",
       "      <th></th>\n",
       "      <th>Judul</th>\n",
       "      <th>Narasi</th>\n",
       "      <th>Indikator</th>\n",
       "    </tr>\n",
       "  </thead>\n",
       "  <tbody>\n",
       "    <tr>\n",
       "      <th>0</th>\n",
       "      <td>APD dari China Dibeli dengan Uang Pribadi Prabowo</td>\n",
       "      <td>Pada situs kemhan.go.id dalam artikel berjudul...</td>\n",
       "      <td>0</td>\n",
       "    </tr>\n",
       "    <tr>\n",
       "      <th>1</th>\n",
       "      <td>Video Penerbangan dari Italia ke ethiopia. Se...</td>\n",
       "      <td>BUKAN di Ethiopia dan TIDAK terkait COVID-19. ...</td>\n",
       "      <td>0</td>\n",
       "    </tr>\n",
       "    <tr>\n",
       "      <th>2</th>\n",
       "      <td>Akun Twitter resmi Menteri Pendidikan dan Keb...</td>\n",
       "      <td>BUKAN akun resmi milik Mendikbud Nadiem Makari...</td>\n",
       "      <td>0</td>\n",
       "    </tr>\n",
       "    <tr>\n",
       "      <th>3</th>\n",
       "      <td>Inggris Rusuh Akibat Lockdown</td>\n",
       "      <td>Hasil Periksa Fakta Auliyaa Muhammad Hesa (Ang...</td>\n",
       "      <td>0</td>\n",
       "    </tr>\n",
       "    <tr>\n",
       "      <th>4</th>\n",
       "      <td>Peta Zona Merah Virus Corona Wilayah Purwokerto</td>\n",
       "      <td>Melalui media sosial Facebook dan pesan berant...</td>\n",
       "      <td>0</td>\n",
       "    </tr>\n",
       "    <tr>\n",
       "      <th>...</th>\n",
       "      <td>...</td>\n",
       "      <td>...</td>\n",
       "      <td>...</td>\n",
       "    </tr>\n",
       "    <tr>\n",
       "      <th>604</th>\n",
       "      <td>Wanti-wanti Pemerintah Antisipasi Lonjakan Cov...</td>\n",
       "      <td>Presiden Partai Keadilan Sejahtera (PKS) Ahmad...</td>\n",
       "      <td>1</td>\n",
       "    </tr>\n",
       "    <tr>\n",
       "      <th>605</th>\n",
       "      <td>Eks Direktur PTPN XI Budi Prabowo Segera Disid...</td>\n",
       "      <td>Logo Komisi Pemberantasan Korupsi di Gedung Ba...</td>\n",
       "      <td>1</td>\n",
       "    </tr>\n",
       "    <tr>\n",
       "      <th>606</th>\n",
       "      <td>Pegawai KPI Korban Pelecehan Depresi karena Ka...</td>\n",
       "      <td>Komisi Penyiaran Indonesia (KPI)(Instagram/KPI...</td>\n",
       "      <td>1</td>\n",
       "    </tr>\n",
       "    <tr>\n",
       "      <th>607</th>\n",
       "      <td>Cegah Penyebaran Omicron, Pemerintah Diminta B...</td>\n",
       "      <td>Anggota Komisi IX DPR Netty Prasetiyani.\\n (DO...</td>\n",
       "      <td>1</td>\n",
       "    </tr>\n",
       "    <tr>\n",
       "      <th>608</th>\n",
       "      <td>Eks Sekjen Kemendagri Diperiksa sebagai Saksi,...</td>\n",
       "      <td>Pelaksana Tugas Juru Bicara KPK Ali Fikri usai...</td>\n",
       "      <td>1</td>\n",
       "    </tr>\n",
       "  </tbody>\n",
       "</table>\n",
       "<p>608 rows × 3 columns</p>\n",
       "</div>"
      ],
      "text/plain": [
       "                                                 Judul  \\\n",
       "0    APD dari China Dibeli dengan Uang Pribadi Prabowo   \n",
       "1     Video Penerbangan dari Italia ke ethiopia. Se...   \n",
       "2     Akun Twitter resmi Menteri Pendidikan dan Keb...   \n",
       "3                        Inggris Rusuh Akibat Lockdown   \n",
       "4      Peta Zona Merah Virus Corona Wilayah Purwokerto   \n",
       "..                                                 ...   \n",
       "604  Wanti-wanti Pemerintah Antisipasi Lonjakan Cov...   \n",
       "605  Eks Direktur PTPN XI Budi Prabowo Segera Disid...   \n",
       "606  Pegawai KPI Korban Pelecehan Depresi karena Ka...   \n",
       "607  Cegah Penyebaran Omicron, Pemerintah Diminta B...   \n",
       "608  Eks Sekjen Kemendagri Diperiksa sebagai Saksi,...   \n",
       "\n",
       "                                                Narasi  Indikator  \n",
       "0    Pada situs kemhan.go.id dalam artikel berjudul...          0  \n",
       "1    BUKAN di Ethiopia dan TIDAK terkait COVID-19. ...          0  \n",
       "2    BUKAN akun resmi milik Mendikbud Nadiem Makari...          0  \n",
       "3    Hasil Periksa Fakta Auliyaa Muhammad Hesa (Ang...          0  \n",
       "4    Melalui media sosial Facebook dan pesan berant...          0  \n",
       "..                                                 ...        ...  \n",
       "604  Presiden Partai Keadilan Sejahtera (PKS) Ahmad...          1  \n",
       "605  Logo Komisi Pemberantasan Korupsi di Gedung Ba...          1  \n",
       "606  Komisi Penyiaran Indonesia (KPI)(Instagram/KPI...          1  \n",
       "607  Anggota Komisi IX DPR Netty Prasetiyani.\\n (DO...          1  \n",
       "608  Pelaksana Tugas Juru Bicara KPK Ali Fikri usai...          1  \n",
       "\n",
       "[608 rows x 3 columns]"
      ]
     },
     "execution_count": 34,
     "metadata": {},
     "output_type": "execute_result"
    }
   ],
   "source": [
    "# Bentuk data_train\n",
    "\n",
    "data_train"
   ]
  },
  {
   "cell_type": "code",
   "execution_count": 35,
   "id": "a401a14e",
   "metadata": {},
   "outputs": [
    {
     "data": {
      "text/plain": [
       "0    334\n",
       "1    274\n",
       "Name: Indikator, dtype: int64"
      ]
     },
     "execution_count": 35,
     "metadata": {},
     "output_type": "execute_result"
    }
   ],
   "source": [
    "# Jumlah text per-kategori(Indikator)\n",
    "\n",
    "data_train['Indikator'].value_counts()"
   ]
  },
  {
   "cell_type": "code",
   "execution_count": 36,
   "id": "58c402c4",
   "metadata": {},
   "outputs": [
    {
     "data": {
      "text/html": [
       "<div>\n",
       "<style scoped>\n",
       "    .dataframe tbody tr th:only-of-type {\n",
       "        vertical-align: middle;\n",
       "    }\n",
       "\n",
       "    .dataframe tbody tr th {\n",
       "        vertical-align: top;\n",
       "    }\n",
       "\n",
       "    .dataframe thead th {\n",
       "        text-align: right;\n",
       "    }\n",
       "</style>\n",
       "<table border=\"1\" class=\"dataframe\">\n",
       "  <thead>\n",
       "    <tr style=\"text-align: right;\">\n",
       "      <th></th>\n",
       "      <th>Judul</th>\n",
       "      <th>Narasi</th>\n",
       "      <th>Indikator</th>\n",
       "    </tr>\n",
       "  </thead>\n",
       "  <tbody>\n",
       "    <tr>\n",
       "      <th>0</th>\n",
       "      <td>APD dari China Dibeli dengan Uang Pribadi Prabowo</td>\n",
       "      <td>Pada situs kemhan.go.id dalam artikel berjudul...</td>\n",
       "      <td>0</td>\n",
       "    </tr>\n",
       "    <tr>\n",
       "      <th>1</th>\n",
       "      <td>Video Penerbangan dari Italia ke ethiopia. Se...</td>\n",
       "      <td>BUKAN di Ethiopia dan TIDAK terkait COVID-19. ...</td>\n",
       "      <td>0</td>\n",
       "    </tr>\n",
       "    <tr>\n",
       "      <th>2</th>\n",
       "      <td>Akun Twitter resmi Menteri Pendidikan dan Keb...</td>\n",
       "      <td>BUKAN akun resmi milik Mendikbud Nadiem Makari...</td>\n",
       "      <td>0</td>\n",
       "    </tr>\n",
       "    <tr>\n",
       "      <th>3</th>\n",
       "      <td>Inggris Rusuh Akibat Lockdown</td>\n",
       "      <td>Hasil Periksa Fakta Auliyaa Muhammad Hesa (Ang...</td>\n",
       "      <td>0</td>\n",
       "    </tr>\n",
       "    <tr>\n",
       "      <th>4</th>\n",
       "      <td>Peta Zona Merah Virus Corona Wilayah Purwokerto</td>\n",
       "      <td>Melalui media sosial Facebook dan pesan berant...</td>\n",
       "      <td>0</td>\n",
       "    </tr>\n",
       "    <tr>\n",
       "      <th>...</th>\n",
       "      <td>...</td>\n",
       "      <td>...</td>\n",
       "      <td>...</td>\n",
       "    </tr>\n",
       "    <tr>\n",
       "      <th>371</th>\n",
       "      <td>Vietnam Mulai Panasi Mesin Piala AFF U-23, Tim...</td>\n",
       "      <td>Vietnam Mulai Panasi Mesin Piala AFF U-23, Tim...</td>\n",
       "      <td>1</td>\n",
       "    </tr>\n",
       "    <tr>\n",
       "      <th>588</th>\n",
       "      <td>Aksi Kriminal Libatkan Perempuan dan Anak di J...</td>\n",
       "      <td>Kapolres Metro Jakarta Barat Kombes Pol Ady Wi...</td>\n",
       "      <td>1</td>\n",
       "    </tr>\n",
       "    <tr>\n",
       "      <th>344</th>\n",
       "      <td>Wejangan Asnawi Mangkualam untuk Pemain Indone...</td>\n",
       "      <td>Wejangan Asnawi Mangkualam untuk Pemain Indone...</td>\n",
       "      <td>1</td>\n",
       "    </tr>\n",
       "    <tr>\n",
       "      <th>481</th>\n",
       "      <td>Kemenkumham Deklarasikan Janji Kinerja 2022</td>\n",
       "      <td>Jajaran Kementerian Hukum dan HAM (Kemenkumham...</td>\n",
       "      <td>1</td>\n",
       "    </tr>\n",
       "    <tr>\n",
       "      <th>402</th>\n",
       "      <td>Kembali ke Liga Inggris, 3 Klub Ini Siap Menam...</td>\n",
       "      <td>Kembali ke Liga Inggris, 3 Klub Ini Siap Menam...</td>\n",
       "      <td>1</td>\n",
       "    </tr>\n",
       "  </tbody>\n",
       "</table>\n",
       "<p>608 rows × 3 columns</p>\n",
       "</div>"
      ],
      "text/plain": [
       "                                                 Judul  \\\n",
       "0    APD dari China Dibeli dengan Uang Pribadi Prabowo   \n",
       "1     Video Penerbangan dari Italia ke ethiopia. Se...   \n",
       "2     Akun Twitter resmi Menteri Pendidikan dan Keb...   \n",
       "3                        Inggris Rusuh Akibat Lockdown   \n",
       "4      Peta Zona Merah Virus Corona Wilayah Purwokerto   \n",
       "..                                                 ...   \n",
       "371  Vietnam Mulai Panasi Mesin Piala AFF U-23, Tim...   \n",
       "588  Aksi Kriminal Libatkan Perempuan dan Anak di J...   \n",
       "344  Wejangan Asnawi Mangkualam untuk Pemain Indone...   \n",
       "481        Kemenkumham Deklarasikan Janji Kinerja 2022   \n",
       "402  Kembali ke Liga Inggris, 3 Klub Ini Siap Menam...   \n",
       "\n",
       "                                                Narasi  Indikator  \n",
       "0    Pada situs kemhan.go.id dalam artikel berjudul...          0  \n",
       "1    BUKAN di Ethiopia dan TIDAK terkait COVID-19. ...          0  \n",
       "2    BUKAN akun resmi milik Mendikbud Nadiem Makari...          0  \n",
       "3    Hasil Periksa Fakta Auliyaa Muhammad Hesa (Ang...          0  \n",
       "4    Melalui media sosial Facebook dan pesan berant...          0  \n",
       "..                                                 ...        ...  \n",
       "371  Vietnam Mulai Panasi Mesin Piala AFF U-23, Tim...          1  \n",
       "588  Kapolres Metro Jakarta Barat Kombes Pol Ady Wi...          1  \n",
       "344  Wejangan Asnawi Mangkualam untuk Pemain Indone...          1  \n",
       "481  Jajaran Kementerian Hukum dan HAM (Kemenkumham...          1  \n",
       "402  Kembali ke Liga Inggris, 3 Klub Ini Siap Menam...          1  \n",
       "\n",
       "[608 rows x 3 columns]"
      ]
     },
     "execution_count": 36,
     "metadata": {},
     "output_type": "execute_result"
    }
   ],
   "source": [
    "# Dari cell sebelumnya terlihat jelas bahwa dataset kita sangat tidak balance\n",
    "# Untuk membuat datasetnya balance\n",
    "\n",
    "# Pilih dataset dengan Indikator 1 dan lakukan randomisasi untuk setiap baris datanya\n",
    "false_news = data_train[data_train['Indikator'] == 1].sample(frac=1)\n",
    "\n",
    "# Concat dataset berIndikator 1 yang telah dipilih dengan dataset berIndikator 0\n",
    "# dimana jumlah dataset berlabel 1 yang digabungkan sejumlah banyak dataset berIndikator 0 + 200\n",
    "true_fact = data_train[data_train['Indikator'] == 0]\n",
    "df = true_fact.append(false_news[:len(true_fact) + 200])\n",
    "\n",
    "df"
   ]
  },
  {
   "cell_type": "code",
   "execution_count": 37,
   "id": "2fa7e934",
   "metadata": {},
   "outputs": [],
   "source": [
    "# Kita akan menggunakan fitur narasi saja dalam melakukan prediksi terhadap Indikator\n",
    "feature = df['Narasi']\n",
    "Indikator = df['Indikator']"
   ]
  },
  {
   "cell_type": "code",
   "execution_count": 38,
   "id": "a1797955",
   "metadata": {},
   "outputs": [
    {
     "data": {
      "text/plain": [
       "['pada situs kemhan go id dalam artikel judul menhan prabowo subianto serah bantu alkes dari tiongkok untuk rumah sakit rujuk tangan covid-19 tulis bahwa operasi humanitarian',\n",
       " 'bukan di ethiopia dan tidak kait covid-19 video itu adalah simulasi darurat teroris di bandara internasional blaise diagne senegal pada november 2019 lengkap di bagi',\n",
       " 'bukan akun resmi milik mendikbud nadiem makarim kemendikbud nyata bahwa nadiem makarim tidak milik akun pribadi di media sosial apa saat ini akun nadimmakarim itu',\n",
       " 'hasil periksa fakta auliyaa muhammad hesa anggota komisariat mafindo ui ukm fc ui unggah video lalu facebook tentang rakyat di inggris yang tindak cara',\n",
       " 'lalu media sosial facebook dan pesan beranta whatsapp edar unggah yang serta dengan tangkap layar upa peta yang klaim rupa daerah zona merah wilayah purwokerto']"
      ]
     },
     "execution_count": 38,
     "metadata": {},
     "output_type": "execute_result"
    }
   ],
   "source": [
    "# Mengubah semua huruf pada setiap baris menjadi huruf kecil dan\n",
    "# melakukan stemming pada setiap baris\n",
    "lower = [stemmer.stem(row.lower()) for row in feature]\n",
    "\n",
    "# Hasil stem dan lower\n",
    "lower[:5]"
   ]
  },
  {
   "cell_type": "code",
   "execution_count": 39,
   "id": "bd2534e5",
   "metadata": {},
   "outputs": [
    {
     "data": {
      "text/plain": [
       "[['pada',\n",
       "  'situs',\n",
       "  'kemhan',\n",
       "  'go',\n",
       "  'id',\n",
       "  'dalam',\n",
       "  'artikel',\n",
       "  'judul',\n",
       "  'menhan',\n",
       "  'prabowo',\n",
       "  'subianto',\n",
       "  'serah',\n",
       "  'bantu',\n",
       "  'alkes',\n",
       "  'dari',\n",
       "  'tiongkok',\n",
       "  'untuk',\n",
       "  'rumah',\n",
       "  'sakit',\n",
       "  'rujuk',\n",
       "  'tangan',\n",
       "  'covid-19',\n",
       "  'tulis',\n",
       "  'bahwa',\n",
       "  'operasi',\n",
       "  'humanitarian'],\n",
       " ['bukan',\n",
       "  'di',\n",
       "  'ethiopia',\n",
       "  'dan',\n",
       "  'tidak',\n",
       "  'kait',\n",
       "  'covid-19',\n",
       "  'video',\n",
       "  'itu',\n",
       "  'adalah',\n",
       "  'simulasi',\n",
       "  'darurat',\n",
       "  'teroris',\n",
       "  'di',\n",
       "  'bandara',\n",
       "  'internasional',\n",
       "  'blaise',\n",
       "  'diagne',\n",
       "  'senegal',\n",
       "  'pada',\n",
       "  'november',\n",
       "  '2019',\n",
       "  'lengkap',\n",
       "  'di',\n",
       "  'bagi'],\n",
       " ['bukan',\n",
       "  'akun',\n",
       "  'resmi',\n",
       "  'milik',\n",
       "  'mendikbud',\n",
       "  'nadiem',\n",
       "  'makarim',\n",
       "  'kemendikbud',\n",
       "  'nyata',\n",
       "  'bahwa',\n",
       "  'nadiem',\n",
       "  'makarim',\n",
       "  'tidak',\n",
       "  'milik',\n",
       "  'akun',\n",
       "  'pribadi',\n",
       "  'di',\n",
       "  'media',\n",
       "  'sosial',\n",
       "  'apa',\n",
       "  'saat',\n",
       "  'ini',\n",
       "  'akun',\n",
       "  'nadimmakarim',\n",
       "  'itu'],\n",
       " ['hasil',\n",
       "  'periksa',\n",
       "  'fakta',\n",
       "  'auliyaa',\n",
       "  'muhammad',\n",
       "  'hesa',\n",
       "  'anggota',\n",
       "  'komisariat',\n",
       "  'mafindo',\n",
       "  'ui',\n",
       "  'ukm',\n",
       "  'fc',\n",
       "  'ui',\n",
       "  'unggah',\n",
       "  'video',\n",
       "  'lalu',\n",
       "  'facebook',\n",
       "  'tentang',\n",
       "  'rakyat',\n",
       "  'di',\n",
       "  'inggris',\n",
       "  'yang',\n",
       "  'tindak',\n",
       "  'cara'],\n",
       " ['lalu',\n",
       "  'media',\n",
       "  'sosial',\n",
       "  'facebook',\n",
       "  'dan',\n",
       "  'pesan',\n",
       "  'beranta',\n",
       "  'whatsapp',\n",
       "  'edar',\n",
       "  'unggah',\n",
       "  'yang',\n",
       "  'serta',\n",
       "  'dengan',\n",
       "  'tangkap',\n",
       "  'layar',\n",
       "  'upa',\n",
       "  'peta',\n",
       "  'yang',\n",
       "  'klaim',\n",
       "  'rupa',\n",
       "  'daerah',\n",
       "  'zona',\n",
       "  'merah',\n",
       "  'wilayah',\n",
       "  'purwokerto']]"
      ]
     },
     "execution_count": 39,
     "metadata": {},
     "output_type": "execute_result"
    }
   ],
   "source": [
    "# Melakukan tokenisasi untuk setiap baris dataset\n",
    "tokens = [word_tokenize(element) for element in lower]\n",
    "\n",
    "# Hasil tokenisasi setiap baris\n",
    "tokens[:5]"
   ]
  },
  {
   "cell_type": "code",
   "execution_count": 40,
   "id": "a014b0cb",
   "metadata": {},
   "outputs": [],
   "source": [
    "# train_test_split digunakan untuk memecah dataset menjadi 2 bagian\n",
    "# X_train dan y_train mewakili data yang akan dilakukan pada fitting model(Training model)\n",
    "# X_test dan y_test  mewakili data yang akan dilakukan pada evaluasi model\n",
    "X_train, X_test, y_train, y_test = train_test_split(tokens, Indikator, test_size=0.1, stratify=Indikator)"
   ]
  },
  {
   "cell_type": "code",
   "execution_count": 41,
   "id": "c027390f",
   "metadata": {},
   "outputs": [
    {
     "name": "stdout",
     "output_type": "stream",
     "text": [
      "X_train :  547\n",
      "X_test :  61\n"
     ]
    }
   ],
   "source": [
    "# Melihat ukuran data latih dan data uji\n",
    "print('X_train : ', len(X_train))\n",
    "print('X_test : ', len(X_test))"
   ]
  },
  {
   "cell_type": "code",
   "execution_count": 42,
   "id": "e0950666",
   "metadata": {},
   "outputs": [
    {
     "data": {
      "text/plain": [
       "array([0, 1, 0, 0, 1, 1, 1, 0, 1, 1, 1, 0, 1, 0, 0, 0, 1, 1, 1, 1, 1, 0,\n",
       "       0, 0, 0, 0, 0, 0, 0, 1, 0, 0, 0, 0, 1, 0, 0, 0, 1, 1, 1, 1, 0, 0,\n",
       "       1, 0, 0, 0, 1, 0, 0, 0, 0, 0, 1, 0, 0, 1, 0, 1, 0, 1, 0, 0, 1, 0,\n",
       "       0, 0, 1, 1, 1, 0, 0, 1, 1, 1, 0, 1, 1, 1, 0, 1, 0, 0, 1, 0, 1, 1,\n",
       "       0, 0, 0, 0, 1, 1, 1, 0, 1, 1, 0, 0, 0, 1, 0, 1, 0, 0, 1, 0, 1, 0,\n",
       "       1, 1, 1, 1, 0, 1, 0, 1, 0, 1, 0, 1, 1, 1, 0, 0, 0, 0, 0, 1, 0, 0,\n",
       "       0, 1, 1, 0, 0, 0, 0, 1, 1, 0, 1, 0, 0, 0, 0, 0, 1, 1, 0, 0, 0, 1,\n",
       "       1, 0, 0, 0, 0, 0, 0, 1, 0, 1, 1, 0, 1, 1, 1, 0, 1, 0, 0, 0, 1, 0,\n",
       "       0, 1, 1, 0, 0, 0, 0, 0, 1, 0, 0, 1, 1, 1, 1, 0, 0, 1, 0, 0, 1, 0,\n",
       "       0, 0, 1, 1, 1, 0, 1, 0, 0, 0, 0, 0, 1, 0, 0, 1, 0, 0, 1, 1, 1, 1,\n",
       "       1, 1, 0, 1, 1, 0, 1, 0, 1, 1, 0, 0, 0, 0, 1, 1, 0, 0, 1, 1, 1, 0,\n",
       "       1, 1, 1, 0, 0, 0, 1, 1, 0, 0, 0, 0, 0, 1, 0, 0, 0, 0, 1, 1, 0, 1,\n",
       "       0, 0, 1, 1, 1, 0, 1, 1, 0, 0, 0, 1, 1, 1, 1, 0, 0, 1, 1, 1, 0, 1,\n",
       "       1, 1, 0, 0, 1, 0, 0, 0, 0, 1, 1, 0, 0, 1, 1, 0, 1, 1, 1, 1, 1, 0,\n",
       "       1, 0, 0, 0, 0, 1, 1, 0, 0, 1, 1, 0, 0, 0, 0, 0, 0, 0, 0, 1, 0, 1,\n",
       "       1, 0, 1, 0, 1, 0, 0, 0, 1, 1, 0, 0, 0, 0, 1, 0, 1, 1, 0, 0, 1, 0,\n",
       "       1, 1, 1, 1, 1, 0, 0, 0, 0, 0, 1, 1, 0, 0, 1, 0, 0, 1, 1, 0, 0, 0,\n",
       "       1, 1, 0, 0, 0, 0, 0, 1, 1, 1, 0, 0, 1, 1, 1, 1, 1, 0, 0, 0, 0, 1,\n",
       "       1, 0, 1, 0, 0, 0, 0, 1, 1, 1, 0, 0, 0, 1, 0, 1, 0, 1, 0, 0, 1, 1,\n",
       "       0, 1, 1, 1, 1, 0, 1, 0, 0, 0, 1, 1, 1, 1, 1, 1, 1, 0, 1, 0, 0, 1,\n",
       "       0, 0, 1, 0, 1, 0, 0, 0, 1, 0, 0, 0, 0, 1, 0, 0, 1, 0, 1, 0, 1, 0,\n",
       "       1, 0, 1, 0, 0, 1, 0, 0, 1, 0, 1, 1, 1, 1, 1, 0, 1, 0, 1, 0, 0, 0,\n",
       "       1, 0, 1, 1, 1, 0, 1, 1, 0, 0, 0, 0, 1, 0, 1, 1, 0, 0, 1, 0, 1, 1,\n",
       "       0, 1, 1, 0, 1, 1, 1, 1, 0, 0, 1, 0, 1, 1, 0, 0, 0, 0, 1, 0, 0, 1,\n",
       "       0, 0, 0, 1, 0, 0, 0, 0, 1, 0, 0, 0, 0, 0, 0, 0, 1, 1, 0],\n",
       "      dtype=int64)"
      ]
     },
     "execution_count": 42,
     "metadata": {},
     "output_type": "execute_result"
    }
   ],
   "source": [
    "# Encoder for Data Label\n",
    "y_train = Encoder.fit_transform(y_train)\n",
    "y_test = Encoder.fit_transform(y_test)\n",
    "\n",
    "y_train"
   ]
  },
  {
   "cell_type": "code",
   "execution_count": 43,
   "id": "7576072b",
   "metadata": {},
   "outputs": [
    {
     "data": {
      "text/plain": [
       "TfidfVectorizer()"
      ]
     },
     "execution_count": 43,
     "metadata": {},
     "output_type": "execute_result"
    }
   ],
   "source": [
    "# Fitting dataset terhadap tf-idf\n",
    "Tfidf_vect.fit([\"\".join(row) for row in X_train])"
   ]
  },
  {
   "cell_type": "code",
   "execution_count": 44,
   "id": "eff4ad2a",
   "metadata": {},
   "outputs": [],
   "source": [
    "# Mentransformasikan hasil fitting terhadap data X_train dan X_test\n",
    "X_train_Tfidf = Tfidf_vect.transform([\" \".join(row) for row in X_train])\n",
    "X_test_Tfidf = Tfidf_vect.transform([\" \".join(row) for row in X_test])"
   ]
  },
  {
   "cell_type": "code",
   "execution_count": 45,
   "id": "9a8f46dd",
   "metadata": {},
   "outputs": [
    {
     "name": "stdout",
     "output_type": "stream",
     "text": [
      "[LibSVM]SVM Accuracy Score ->  59.01639344262295\n"
     ]
    }
   ],
   "source": [
    "# Classifier - Algoritma - SVM\n",
    "# fitting/training datasets pada algoritma SVM(Support Vector Machine)\n",
    "SVM = svm.SVC(C=1.0, kernel='linear', degree=1, gamma=\"auto\", verbose=True)\n",
    "SVM.fit(X_train_Tfidf, y_train)  # predict the labels on validation dataset\n",
    "\n",
    "# Menggunakan metrics accuracy untuk melihat performa model\n",
    "predictions_SVM = SVM.predict(X_test_Tfidf)\n",
    "print(\"SVM Accuracy Score -> \", accuracy_score(predictions_SVM, y_test)*100)"
   ]
  },
  {
   "cell_type": "code",
   "execution_count": 46,
   "id": "43b8dc6b",
   "metadata": {},
   "outputs": [
    {
     "name": "stdout",
     "output_type": "stream",
     "text": [
      "RandomForest Accuracy Score ->  59.01639344262295\n"
     ]
    }
   ],
   "source": [
    "#Algoritma RandomForest\n",
    "\n",
    "rf = RandomForestClassifier()\n",
    "rf.fit(X_train_Tfidf, y_train)\n",
    "\n",
    "prediction_rf = rf.predict(X_test_Tfidf)\n",
    "print(\"RandomForest Accuracy Score -> \", accuracy_score(prediction_rf, y_test)*100)"
   ]
  },
  {
   "cell_type": "code",
   "execution_count": null,
   "id": "623f1600",
   "metadata": {},
   "outputs": [],
   "source": []
  },
  {
   "cell_type": "code",
   "execution_count": null,
   "id": "583e7a2d",
   "metadata": {},
   "outputs": [],
   "source": []
  },
  {
   "cell_type": "code",
   "execution_count": null,
   "id": "29518204",
   "metadata": {},
   "outputs": [],
   "source": []
  },
  {
   "cell_type": "code",
   "execution_count": null,
   "id": "7c9d4541",
   "metadata": {},
   "outputs": [],
   "source": []
  },
  {
   "cell_type": "code",
   "execution_count": null,
   "id": "774afdf5",
   "metadata": {},
   "outputs": [],
   "source": []
  }
 ],
 "metadata": {
  "kernelspec": {
   "display_name": "Python 3",
   "language": "python",
   "name": "python3"
  },
  "language_info": {
   "codemirror_mode": {
    "name": "ipython",
    "version": 3
   },
   "file_extension": ".py",
   "mimetype": "text/x-python",
   "name": "python",
   "nbconvert_exporter": "python",
   "pygments_lexer": "ipython3",
   "version": "3.8.8"
  }
 },
 "nbformat": 4,
 "nbformat_minor": 5
}
